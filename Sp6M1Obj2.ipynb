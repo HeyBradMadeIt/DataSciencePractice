{
  "nbformat": 4,
  "nbformat_minor": 0,
  "metadata": {
    "colab": {
      "provenance": []
    },
    "kernelspec": {
      "name": "python3",
      "display_name": "Python 3"
    },
    "language_info": {
      "name": "python"
    }
  },
  "cells": [
    {
      "cell_type": "markdown",
      "source": [
        "# Use scikit-learn for decision trees"
      ],
      "metadata": {
        "id": "zMCvL3cvZDIp"
      }
    },
    {
      "cell_type": "markdown",
      "source": [
        "We'll implement a decision tree in scikit-learn with the penguins data from the previous objective. We want to classify each penguin as male or female based on the physical characteristics and the species"
      ],
      "metadata": {
        "id": "9YbtnMJWZK_i"
      }
    },
    {
      "cell_type": "code",
      "execution_count": 1,
      "metadata": {
        "id": "gOWb9KupZAH1"
      },
      "outputs": [],
      "source": [
        "# Imports!\n",
        "from sklearn.compose import ColumnTransformer\n",
        "from sklearn.pipeline import Pipeline\n",
        "from sklearn.preprocessing import OneHotEncoder\n",
        "\n",
        "# Use the decision tree classifier\n",
        "from sklearn.tree import DecisionTreeClassifier\n",
        "from sklearn.model_selection import train_test_split\n",
        "\n",
        "# Set-up the one-hot encoder method\n",
        "categorical_features = ['species']\n",
        "categorical_transformer = Pipeline(steps=[('onehot', OneHotEncoder())])\n",
        "\n",
        "# Set up our preprocessor/column transformer\n",
        "preprocessor = ColumnTransformer(\n",
        "    transformers=[\n",
        "        ('cat', categorical_transformer, categorical_features)])\n",
        "\n",
        "# Add the classifier to the preprocessing pipeline\n",
        "pipeline = Pipeline(steps=[('preprocessor', preprocessor),\n",
        "                      ('classifier', DecisionTreeClassifier())])"
      ]
    },
    {
      "cell_type": "code",
      "source": [
        "# Load in the data!\n",
        "\n",
        "import pandas as pd\n",
        "import seaborn as sns\n",
        "\n",
        "penguins = sns.load_dataset(\"penguins\")\n",
        "penguins.dropna(inplace=True)\n",
        "\n",
        "# Select features\n",
        "features = ['species', 'bill_length_mm', 'bill_depth_mm', 'flipper_length_mm', 'body_mass_g']\n",
        "X = penguins[features]\n",
        "\n",
        "# Encode the 'sex' column\n",
        "from sklearn import preprocessing\n",
        "le = preprocessing.LabelEncoder()\n",
        "penguins['sex_encode'] = le.fit_transform(penguins['sex'])\n",
        "\n",
        "# Set target array\n",
        "y = penguins['sex_encode']\n",
        "\n",
        "# Apply the pipeline\n",
        "\n",
        "# Separate into training and testing sets\n",
        "X_train, X_test, y_train, y_test = train_test_split(X, y, test_size=0.25)\n",
        "\n",
        "# Fit the model with our logistic regression classifier\n",
        "pipeline.fit(X_train, y_train)\n",
        "print(\"model score: %.3f\" % pipeline.score(X_test, y_test))"
      ],
      "metadata": {
        "colab": {
          "base_uri": "https://localhost:8080/"
        },
        "id": "gO6bcCbtZPQE",
        "outputId": "d2a39f67-a99d-495d-a3d9-295eee191582"
      },
      "execution_count": 2,
      "outputs": [
        {
          "output_type": "stream",
          "name": "stdout",
          "text": [
            "model score: 0.476\n"
          ]
        }
      ]
    },
    {
      "cell_type": "markdown",
      "source": [
        "It looks like we have a model that performs slightly better than the logistic regression model from earlier!"
      ],
      "metadata": {
        "id": "iuCTYeXBZXAy"
      }
    },
    {
      "cell_type": "code",
      "source": [],
      "metadata": {
        "id": "ICqfrLHFZSRF"
      },
      "execution_count": null,
      "outputs": []
    }
  ]
}